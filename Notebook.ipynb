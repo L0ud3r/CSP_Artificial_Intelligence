{
 "cells": [
  {
   "cell_type": "markdown",
   "metadata": {},
   "source": [
    "## Schedules making problem (Problema de atribuição de horários)\n",
    "Este CSP tem como objetivo preparar e organizar um horário escolar.\n",
    "\n",
    "Temos as seguintes <ins>informações</ins> em relação ao problema:\n",
    "* Lista de turmas\n",
    "* Lista de cadeiras que está associada a cada turma\n",
    "* Lista de cadeiras que este lecionam\n",
    "* Horas disponíveis para cada turma ter aula\n",
    "* Salas de aula associadas às aulas\n",
    "<br></br>\n",
    "\n",
    "\n",
    "A nível de <ins>restrições</ins>, temos as seguites:\n",
    "* Apenas uma cadeira pode ser lecionada na mesma sala e hora\n",
    "* Apenas uma sala pode ser lecionada na mesma hora\n",
    "* Um professor não pode lecionar mais que uma aula numa hora e não pode lecionar mais que três aulas por dia\n",
    "* Cada cadeira tem 2 aulas por semana\n",
    "<br></br>\n",
    "\n",
    "This demo takes into account 3 classes: **[TODO]**\n",
    "* Classes and courses: ?\n",
    "* TimeSlots: ?\n",
    "* Professors: ?\n",
    "* Classrooms: ?\n",
    "<br></br>\n",
    "\n",
    "<ins>Funções</ins> que foram implementadas para este CSP:\n",
    "* atmost_three  - retorna **TRUE** se não houver mais que três aulas no mesmo dia [DONE e Testada]\n",
    "* one_class_per_timeslot - retorna **TRUE** se não houver mais que uma aula numa timeslot [DONE e Testada]\n",
    "* one_uc_per_timeslot - retorna **TRUE** se não houver mais que uma timeslot com a mesma UC [DONE e Testada]\n",
    "* one_classroom_per_timeslot - retorna **TRUE** se não houver mais que uma sala numa timeslot [DONE e Testada]\n",
    "* online_class_not_after_presencial_after - retorna **TRUE** se não houver aulas presencial imediatamente depois de uma aula presencial [DONE e Testada]\n",
    "* online_class_not_before_presencial_before - retorna **TRUE** se não houver aulas presencial imediatamente antes de uma aula presencial [DONE e Testada]\n",
    "* class_for_specific_classroom - retorna **TRUE** se cada turma tiver entre 2 a 4 aulas numa sala em especifico\n",
    "* cannot_repeat_UC_daily - retorna **TRUE** no caso de uma disciplina não estiver a ser lecionada mais que 1 vez por dia [DONE, REMOVER (???)]\n",
    "* UC_twice_per_week - retorna **TRUE** no caso de uma disciplina não for lecionada mais que 2 vezes por semana \n",
    "* ...\n"
   ]
  }
 ],
 "metadata": {
  "kernelspec": {
   "display_name": "Python 3.10.2 64-bit",
   "language": "python",
   "name": "python3"
  },
  "language_info": {
   "name": "python",
   "version": "3.10.2"
  },
  "orig_nbformat": 4,
  "vscode": {
   "interpreter": {
    "hash": "107d7b120a5b68773a87d4067e673630b35702e55ebab3138143d08b1c4d7cbc"
   }
  }
 },
 "nbformat": 4,
 "nbformat_minor": 2
}
