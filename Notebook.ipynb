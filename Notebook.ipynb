{
 "cells": [
  {
   "cell_type": "markdown",
   "metadata": {},
   "source": [
    "# Schedules making problem (Problema de atribuição de horários)\n",
    "\n",
    "## Introdução\n",
    "Este CSP tem como objetivo preparar e organizar um horário escolar.\n",
    "\n",
    "Temos como input as seguintes informações</ins>:\n",
    "* Lista de turmas\n",
    "* Lista de disciplinas\n",
    "* Salas de aula associadas às aulas\n",
    "<br></br>\n",
    "\n",
    "## Restrições do problema\n",
    "A nível de <ins>restrições</ins>, temos as seguites:\n",
    "* Apenas uma disciplina pode ser lecionada na mesma sala e hora\n",
    "* Apenas uma sala pode ser usada na mesma hora\n",
    "* Uma disciplina não pode ser lecionada mais que três vezez por dia\n",
    "* Cada disciplina tem 2 aulas por semana\n",
    "* Há 2 aulas onlines no máximo\n",
    "* Aulas online não podem ser seguindas de aulas presenciais\n",
    "<br></br>\n",
    "\n",
    "### Bibliotecas usadas"
   ]
  },
  {
   "cell_type": "code",
   "execution_count": 1,
   "metadata": {},
   "outputs": [],
   "source": [
    "from csp import *\n",
    "from classes import *\n",
    "from constraints_functions import *\n",
    "import warnings \n",
    "\n",
    "# Ignorar warnings\n",
    "warnings.filterwarnings('ignore')"
   ]
  },
  {
   "cell_type": "markdown",
   "metadata": {},
   "source": [
    "As bibliotecas classes e constraints_functions foram feitas de forma a apoiar o funcionamento correto e eficaz do programa<br></br>Já a biblioteca csp, tira ainda proveito de outras bibliotecas como search.py e utils.py que foram retiradas do repositório AIMA-python no Git, de forma a ser possível fazer uma pesquisa eficaz do CSP. <br></br>"
   ]
  },
  {
   "cell_type": "markdown",
   "metadata": {},
   "source": [
    "# Variables"
   ]
  },
  {
   "cell_type": "code",
   "execution_count": 2,
   "metadata": {},
   "outputs": [],
   "source": [
    "turma = { 1: \"a\", 2: \"b\" }\n",
    "\n",
    "uc = { 1: \"matematica\", 2: \"ciencias\", 3: \"ingles\", 4: \"historia\" , 5:\"aplicacoes informaticas\" }\n",
    "\n",
    "sala = { 1: \"201\", 2: \"202\", 3: \"104\", 4: \"108\", 5: \"online\" }\n",
    "\n",
    "aula_inicial = 0\n",
    "prox_inicial = 10\n",
    "\n",
    "aulas = []\n",
    "\n",
    "dominio = {}\n",
    "\n",
    "restricoes = []"
   ]
  },
  {
   "cell_type": "markdown",
   "metadata": {},
   "source": [
    "### Funções Auxiliares\n",
    "Foram criadas 2 funções auxiliares no main, tendo em conta que estava a haver problemas com os parâmetros a serem passados pelas function calls.<br></br>Foram então deixadas no main, de forma a evitar esse problema"
   ]
  },
  {
   "cell_type": "code",
   "execution_count": 3,
   "metadata": {},
   "outputs": [],
   "source": [
    "# Verifica se uma uc aparece 2 vezes por semana\n",
    "def two_lessons_uc_per_schedule(*list):\n",
    "    # Percorre as UCs de cada aula\n",
    "    for x in uc:\n",
    "        # Caso o número de vezes que uma disciplina apareça num horário seja diferente de 2\n",
    "        if (list.count(x) != 2):\n",
    "            return False\n",
    "    return True\n",
    "\n",
    "# Verifica se tem mais de 3 aulas por dia\n",
    "def three_lessons_per_day(*list):\n",
    "    # Percorre os dias da semana\n",
    "    for x in range(1,6):\n",
    "        # Caso o dia apareça mais que 3 vezes no horário\n",
    "        if (list.count(x) > 3):\n",
    "            return False\n",
    "    return True"
   ]
  },
  {
   "cell_type": "markdown",
   "metadata": {},
   "source": [
    "Estas funções foram criadas com o propósito de dar auxílio às constraints que serão referidas posteriormente"
   ]
  },
  {
   "attachments": {},
   "cell_type": "markdown",
   "metadata": {},
   "source": [
    "\n",
    "## Domain\n",
    "O domínio é diferente de variável para variável e este vai sendo alterado na parte inicial do programa a partir da função append(), tal como é possível observar no seguinte exemplo:\n"
   ]
  },
  {
   "cell_type": "code",
   "execution_count": 4,
   "metadata": {},
   "outputs": [],
   "source": [
    "# loop para criar as aulas necessárias (10 aulas por turma)\n",
    "for i in range(len(turma) * 10):\n",
    "    novaAula = Aula(None, None, None, None, None, None)\n",
    "    aulas.append(novaAula)\n",
    "\n",
    "# Ciclo para atribuição de salas a cada aula, inclusive aulas online, atribuindo esses mesmo valores ao dominio\n",
    "# Aulas online foram atribuídas logo de início\n",
    "for turma_atual in turma:\n",
    "    aulas_online_atuais = 0\n",
    "    aulas_online_max = 2\n",
    "    \n",
    "    while aula_inicial != prox_inicial:\n",
    "        dominio.update({f'Aula{aula_inicial}.turma': {turma_atual}})\n",
    "        \n",
    "        if(aulas_online_atuais < aulas_online_max):\n",
    "            dominio.update({f'Aula{aula_inicial}.sala': {5}})\n",
    "        else:\n",
    "            dominio.update({f'Aula{aula_inicial}.sala': random.sample(set(range(1, len(sala))),1)})\n",
    "        aulas_online_atuais += 1\n",
    "        aula_inicial += 1\n",
    "    aula_inicial = prox_inicial\n",
    "    prox_inicial += 10\n",
    "\n",
    "\n",
    "# Ciclo de atribuição de valores ao dominio para disciplina, dia da semana, duracao e hora de inicio de aula\n",
    "for x, list_enumerate in enumerate(aulas):\n",
    "    dominio.update({f'Aula{x}.uc': set(range(1, len(uc)+1))})  # disciplina\n",
    "    dominio.update({f'Aula{x}.dia_semana': set(range(1, 6))})  # Dia semana\n",
    "    dominio.update({f'Aula{x}.duracao': {2}})  # Tempo de aula\n",
    "    dominio.update({f'Aula{x}.inicioAula': set(range(9, 18))}) # Inicio até Inicio do ultimo bloco"
   ]
  },
  {
   "cell_type": "markdown",
   "metadata": {},
   "source": [
    "Primeiro ciclo for faz a distribuição de aulas pela lista aulas, preenchendo assim o seu dominio com valores nulos\n",
    "\n",
    "Os ciclos for seguintes estão a preencher estes mesmo valores nulos, segue-se à frente um exemplo do dominio"
   ]
  },
  {
   "cell_type": "code",
   "execution_count": 5,
   "metadata": {},
   "outputs": [
    {
     "name": "stdout",
     "output_type": "stream",
     "text": [
      "{'Aula0.turma': {1}, 'Aula0.sala': {5}, 'Aula1.turma': {1}, 'Aula1.sala': {5}, 'Aula2.turma': {1}, 'Aula2.sala': [2], 'Aula3.turma': {1}, 'Aula3.sala': [2], 'Aula4.turma': {1}, 'Aula4.sala': [4], 'Aula5.turma': {1}, 'Aula5.sala': [1], 'Aula6.turma': {1}, 'Aula6.sala': [4], 'Aula7.turma': {1}, 'Aula7.sala': [3], 'Aula8.turma': {1}, 'Aula8.sala': [1], 'Aula9.turma': {1}, 'Aula9.sala': [1], 'Aula10.turma': {2}, 'Aula10.sala': {5}, 'Aula11.turma': {2}, 'Aula11.sala': {5}, 'Aula12.turma': {2}, 'Aula12.sala': [2], 'Aula13.turma': {2}, 'Aula13.sala': [2], 'Aula14.turma': {2}, 'Aula14.sala': [1], 'Aula15.turma': {2}, 'Aula15.sala': [3], 'Aula16.turma': {2}, 'Aula16.sala': [2], 'Aula17.turma': {2}, 'Aula17.sala': [3], 'Aula18.turma': {2}, 'Aula18.sala': [2], 'Aula19.turma': {2}, 'Aula19.sala': [4], 'Aula0.uc': {1, 2, 3, 4, 5}, 'Aula0.dia_semana': {1, 2, 3, 4, 5}, 'Aula0.duracao': {2}, 'Aula0.inicioAula': {9, 10, 11, 12, 13, 14, 15, 16, 17}, 'Aula1.uc': {1, 2, 3, 4, 5}, 'Aula1.dia_semana': {1, 2, 3, 4, 5}, 'Aula1.duracao': {2}, 'Aula1.inicioAula': {9, 10, 11, 12, 13, 14, 15, 16, 17}, 'Aula2.uc': {1, 2, 3, 4, 5}, 'Aula2.dia_semana': {1, 2, 3, 4, 5}, 'Aula2.duracao': {2}, 'Aula2.inicioAula': {9, 10, 11, 12, 13, 14, 15, 16, 17}, 'Aula3.uc': {1, 2, 3, 4, 5}, 'Aula3.dia_semana': {1, 2, 3, 4, 5}, 'Aula3.duracao': {2}, 'Aula3.inicioAula': {9, 10, 11, 12, 13, 14, 15, 16, 17}, 'Aula4.uc': {1, 2, 3, 4, 5}, 'Aula4.dia_semana': {1, 2, 3, 4, 5}, 'Aula4.duracao': {2}, 'Aula4.inicioAula': {9, 10, 11, 12, 13, 14, 15, 16, 17}, 'Aula5.uc': {1, 2, 3, 4, 5}, 'Aula5.dia_semana': {1, 2, 3, 4, 5}, 'Aula5.duracao': {2}, 'Aula5.inicioAula': {9, 10, 11, 12, 13, 14, 15, 16, 17}, 'Aula6.uc': {1, 2, 3, 4, 5}, 'Aula6.dia_semana': {1, 2, 3, 4, 5}, 'Aula6.duracao': {2}, 'Aula6.inicioAula': {9, 10, 11, 12, 13, 14, 15, 16, 17}, 'Aula7.uc': {1, 2, 3, 4, 5}, 'Aula7.dia_semana': {1, 2, 3, 4, 5}, 'Aula7.duracao': {2}, 'Aula7.inicioAula': {9, 10, 11, 12, 13, 14, 15, 16, 17}, 'Aula8.uc': {1, 2, 3, 4, 5}, 'Aula8.dia_semana': {1, 2, 3, 4, 5}, 'Aula8.duracao': {2}, 'Aula8.inicioAula': {9, 10, 11, 12, 13, 14, 15, 16, 17}, 'Aula9.uc': {1, 2, 3, 4, 5}, 'Aula9.dia_semana': {1, 2, 3, 4, 5}, 'Aula9.duracao': {2}, 'Aula9.inicioAula': {9, 10, 11, 12, 13, 14, 15, 16, 17}, 'Aula10.uc': {1, 2, 3, 4, 5}, 'Aula10.dia_semana': {1, 2, 3, 4, 5}, 'Aula10.duracao': {2}, 'Aula10.inicioAula': {9, 10, 11, 12, 13, 14, 15, 16, 17}, 'Aula11.uc': {1, 2, 3, 4, 5}, 'Aula11.dia_semana': {1, 2, 3, 4, 5}, 'Aula11.duracao': {2}, 'Aula11.inicioAula': {9, 10, 11, 12, 13, 14, 15, 16, 17}, 'Aula12.uc': {1, 2, 3, 4, 5}, 'Aula12.dia_semana': {1, 2, 3, 4, 5}, 'Aula12.duracao': {2}, 'Aula12.inicioAula': {9, 10, 11, 12, 13, 14, 15, 16, 17}, 'Aula13.uc': {1, 2, 3, 4, 5}, 'Aula13.dia_semana': {1, 2, 3, 4, 5}, 'Aula13.duracao': {2}, 'Aula13.inicioAula': {9, 10, 11, 12, 13, 14, 15, 16, 17}, 'Aula14.uc': {1, 2, 3, 4, 5}, 'Aula14.dia_semana': {1, 2, 3, 4, 5}, 'Aula14.duracao': {2}, 'Aula14.inicioAula': {9, 10, 11, 12, 13, 14, 15, 16, 17}, 'Aula15.uc': {1, 2, 3, 4, 5}, 'Aula15.dia_semana': {1, 2, 3, 4, 5}, 'Aula15.duracao': {2}, 'Aula15.inicioAula': {9, 10, 11, 12, 13, 14, 15, 16, 17}, 'Aula16.uc': {1, 2, 3, 4, 5}, 'Aula16.dia_semana': {1, 2, 3, 4, 5}, 'Aula16.duracao': {2}, 'Aula16.inicioAula': {9, 10, 11, 12, 13, 14, 15, 16, 17}, 'Aula17.uc': {1, 2, 3, 4, 5}, 'Aula17.dia_semana': {1, 2, 3, 4, 5}, 'Aula17.duracao': {2}, 'Aula17.inicioAula': {9, 10, 11, 12, 13, 14, 15, 16, 17}, 'Aula18.uc': {1, 2, 3, 4, 5}, 'Aula18.dia_semana': {1, 2, 3, 4, 5}, 'Aula18.duracao': {2}, 'Aula18.inicioAula': {9, 10, 11, 12, 13, 14, 15, 16, 17}, 'Aula19.uc': {1, 2, 3, 4, 5}, 'Aula19.dia_semana': {1, 2, 3, 4, 5}, 'Aula19.duracao': {2}, 'Aula19.inicioAula': {9, 10, 11, 12, 13, 14, 15, 16, 17}}\n"
     ]
    }
   ],
   "source": [
    "print(dominio)"
   ]
  },
  {
   "cell_type": "markdown",
   "metadata": {},
   "source": [
    "\n",
    "## Constraints\n"
   ]
  },
  {
   "cell_type": "markdown",
   "metadata": {},
   "source": [
    "Os constraints já foram falados anteriormente no ponto de Restrições do Problema, segue-se à frente o código para as mesma"
   ]
  },
  {
   "cell_type": "code",
   "execution_count": 6,
   "metadata": {},
   "outputs": [],
   "source": [
    "# Ciclos que percorrem as turmas (fazendo comparação de cada aula entre cada turma)\n",
    "for x in range(0, len(turma) * 10):\n",
    "    for y in range(x + 1, len(turma) * 10):\n",
    "        # Para um slot do horario, não pode ter a mesma uc na mesma turma\n",
    "        one_uc_per_timeslot = Constraint((f'Aula{x}.uc', f'Aula{y}.uc',\n",
    "                                          f'Aula{x}.turma', f'Aula{y}.turma',\n",
    "                                          f'Aula{x}.dia_semana',f'Aula{y}.dia_semana'\n",
    "                                          ), lambda aulax_uc, aulay_uc,\n",
    "                                                    aulax_turma, aulay_turma,\n",
    "                                                    aulax_dia, aulay_dia,:\n",
    "                                                        \n",
    "                                (aulax_dia != aulay_dia)\n",
    "                                if (aulax_uc == aulay_uc and aulax_turma == aulay_turma) else True)\n",
    "\n",
    "        restricoes.append(one_uc_per_timeslot)\n",
    "\n",
    "        # Para um slot do horario, não pode ter a mesma sala\n",
    "        one_classroom_per_timeslot = Constraint((f'Aula{x}.sala', f'Aula{y}.sala',\n",
    "                                                f'Aula{x}.dia_semana',f'Aula{y}.dia_semana',\n",
    "                                                f'Aula{x}.duracao',f'Aula{y}.duracao',\n",
    "                                                f'Aula{x}.inicioAula',f'Aula{y}.inicioAula',\n",
    "                                                ), lambda aulax_sala, aulay_sala,\n",
    "                                                          aulax_dia, aulay_dia, \n",
    "                                                          aulax_duracao, aulay_duracao,\n",
    "                                                          aulax_inicio, aulay_inicio:\n",
    "                                                              \n",
    "                                (aulax_inicio >= (aulay_inicio + aulay_duracao) or aulay_inicio >= (aulax_inicio + aulax_duracao))\n",
    "                                if (aulax_sala != 5 and aulax_sala == aulay_sala and aulax_dia == aulay_dia) else True)\n",
    "        \n",
    "        restricoes.append(one_classroom_per_timeslot)\n",
    "        \n",
    "        # Para um slot do horario, não pode ter a mesma turma\n",
    "        one_class_per_timeslot = Constraint((f'Aula{x}.turma', f'Aula{y}.turma',\n",
    "                                            f'Aula{x}.dia_semana',f'Aula{y}.dia_semana',\n",
    "                                            f'Aula{x}.duracao',f'Aula{y}.duracao',\n",
    "                                            f'Aula{x}.inicioAula',f'Aula{y}.inicioAula'\n",
    "                                            ), lambda aulax_turma, aulay_turma,\n",
    "                                                      aulax_dia, aulay_dia, \n",
    "                                                      aulax_duracao, aulay_duracao,\n",
    "                                                      aulax_inicio, aulay_inicio: \n",
    "                                                          \n",
    "                                (aulax_inicio >= (aulay_inicio + aulay_duracao) or aulay_inicio >= (aulax_inicio + aulax_duracao))\n",
    "                                if (aulax_turma == aulay_turma and aulax_dia == aulay_dia) else True)\n",
    "        \n",
    "        restricoes.append(one_class_per_timeslot)\n",
    "        \n",
    "        # Aulas online não podem ser seguidas de aulas presenciais\n",
    "        # Foram feitas 2 constraints para o caso de ser uma aula antes \n",
    "        # ou depois da aula a ser verificada atualmente\n",
    "        online_presencial_class_problem_x = Constraint((f'Aula{x}.turma', f'Aula{y}.turma',\n",
    "                                                        f'Aula{x}.dia_semana',f'Aula{y}.dia_semana',\n",
    "                                                        f'Aula{x}.sala',f'Aula{y}.sala',\n",
    "                                                        f'Aula{x}.duracao',f'Aula{y}.duracao',\n",
    "                                                        f'Aula{x}.inicioAula',f'Aula{y}.inicioAula',\n",
    "                                                        ), lambda aulax_turma, aulay_turma,\n",
    "                                                                  aulax_dia, aulay_dia, \n",
    "                                                                  aulax_sala, aulay_sala,\n",
    "                                                                  aulax_duracao, aulay_duracao,\n",
    "                                                                  aulax_inicio, aulay_inicio:\n",
    "                                \n",
    "                                (aulax_sala != 5)\n",
    "                                if (aulax_turma == aulay_turma and aulax_dia == aulay_dia and \n",
    "                                    (aulay_inicio == aulax_inicio - aulax_duracao or \n",
    "                                    aulay_inicio == aulax_inicio + aulax_duracao or \n",
    "                                    aulax_inicio == aulay_inicio - aulay_duracao or \n",
    "                                    aulax_inicio == aulay_inicio + aulay_duracao) and \n",
    "                                    aulay_sala != 5) else True)\n",
    "        \n",
    "        restricoes.append(online_presencial_class_problem_x)\n",
    "        \n",
    "        online_presencial_class_problem_y = Constraint((f'Aula{x}.turma', f'Aula{y}.turma',\n",
    "                                                        f'Aula{x}.dia_semana',f'Aula{y}.dia_semana',\n",
    "                                                        f'Aula{x}.sala',f'Aula{y}.sala',\n",
    "                                                        f'Aula{x}.duracao',f'Aula{y}.duracao',\n",
    "                                                        f'Aula{x}.inicioAula',f'Aula{y}.inicioAula',\n",
    "                                                        ), lambda aulax_turma, aulay_turma,\n",
    "                                                        aulax_dia, aulay_dia, \n",
    "                                                        aulax_sala, aulay_sala,\n",
    "                                                        aulax_duracao, aulay_duracao,\n",
    "                                                        aulax_inicio, aulay_inicio:\n",
    "                                            \n",
    "                                (aulay_sala != 5)\n",
    "                                if (aulax_turma == aulay_turma and aulax_dia == aulay_dia and \n",
    "                                    (aulay_inicio == aulax_inicio - aulax_duracao or \n",
    "                                    aulay_inicio == aulax_inicio + aulax_duracao or \n",
    "                                    aulax_inicio == aulay_inicio - aulay_duracao or \n",
    "                                    aulax_inicio == aulay_inicio + aulay_duracao) and \n",
    "                                    aulax_sala != 5) else True)\n",
    "        \n",
    "        restricoes.append(online_presencial_class_problem_y)\n",
    "\n",
    "# restrições que ocorrerão em cada horário (ou seja em cada turma)\n",
    "for x in turma:\n",
    "    # Uma disciplina só pode ser lecionada 2 vezes por semana\n",
    "    # Neste caso é criada uma lista (tuple, tendo em conta os argumentos de Constraint()) com as UCs de cada aula por nodo\n",
    "    # Esta lista é usada na função chamada no parâmetro seguito, o mesmo acontece na constraint seguinte\n",
    "    uc_twice_per_week = Constraint(tuple(list_of_uc_of_classes(x)), two_lessons_uc_per_schedule)\n",
    "    \n",
    "    restricoes.append(uc_twice_per_week)\n",
    "    \n",
    "    # Só pode haver um máximo de 3 aulas por dia\n",
    "    max_three_lessons_per_day = Constraint(tuple(list_of_weekday_of_classes(x)), three_lessons_per_day)\n",
    "    \n",
    "    restricoes.append(max_three_lessons_per_day)"
   ]
  },
  {
   "cell_type": "markdown",
   "metadata": {},
   "source": [
    "* one_class_per_timeslot - retorna **TRUE** se não houver mais que uma aula numa timeslot\n",
    "* one_uc_per_timeslot - retorna **TRUE** se não houver mais que uma timeslot com a mesma UC\n",
    "* one_classroom_per_timeslot - retorna **TRUE** se não houver mais que uma sala numa timeslot\n",
    "* online_presencial_class_problem_x - retorna **TRUE** se não houver aulas presencial imediatamente depois de uma aula presencial\n",
    "* online_presencial_class_problem_y - retorna **TRUE** se não houver aulas presencial imediatamente antes de uma aula presencial\n",
    "* uc_twice_per_week - retorna **TRUE** no caso de uma disciplina não for lecionada mais que 2 vezes por semana \n",
    "* max_three_lessons_per_day  - retorna **TRUE** se não houver mais que três aulas no mesmo dia"
   ]
  },
  {
   "cell_type": "markdown",
   "metadata": {},
   "source": [
    "# Programa a correr e resultados"
   ]
  },
  {
   "cell_type": "markdown",
   "metadata": {},
   "source": [
    "Por fim, temos abaixo os comandos de pesquisa CSP utilizando os algoritmos ac_solver e ac_search<br></br>\n",
    "Ao correr o notebook inteiro é possível verificar o estado final alcançado"
   ]
  },
  {
   "cell_type": "code",
   "execution_count": 7,
   "metadata": {},
   "outputs": [
    {
     "name": "stdout",
     "output_type": "stream",
     "text": [
      "{'Aula0.turma': 1, 'Aula0.sala': 5, 'Aula1.turma': 1, 'Aula1.sala': 5, 'Aula2.turma': 1, 'Aula2.sala': 2, 'Aula3.turma': 1, 'Aula3.sala': 2, 'Aula4.turma': 1, 'Aula4.sala': 4, 'Aula5.turma': 1, 'Aula5.sala': 1, 'Aula6.turma': 1, 'Aula6.sala': 4, 'Aula7.turma': 1, 'Aula7.sala': 3, 'Aula8.turma': 1, 'Aula8.sala': 1, 'Aula9.turma': 1, 'Aula9.sala': 1, 'Aula10.turma': 2, 'Aula10.sala': 5, 'Aula11.turma': 2, 'Aula11.sala': 5, 'Aula12.turma': 2, 'Aula12.sala': 2, 'Aula13.turma': 2, 'Aula13.sala': 2, 'Aula14.turma': 2, 'Aula14.sala': 1, 'Aula15.turma': 2, 'Aula15.sala': 3, 'Aula16.turma': 2, 'Aula16.sala': 2, 'Aula17.turma': 2, 'Aula17.sala': 3, 'Aula18.turma': 2, 'Aula18.sala': 2, 'Aula19.turma': 2, 'Aula19.sala': 4, 'Aula0.uc': 5, 'Aula0.dia_semana': 5, 'Aula0.duracao': 2, 'Aula0.inicioAula': 15, 'Aula1.uc': 5, 'Aula1.dia_semana': 4, 'Aula1.duracao': 2, 'Aula1.inicioAula': 15, 'Aula2.uc': 4, 'Aula2.dia_semana': 5, 'Aula2.duracao': 2, 'Aula2.inicioAula': 12, 'Aula3.uc': 4, 'Aula3.dia_semana': 4, 'Aula3.duracao': 2, 'Aula3.inicioAula': 12, 'Aula4.uc': 3, 'Aula4.dia_semana': 5, 'Aula4.duracao': 2, 'Aula4.inicioAula': 10, 'Aula5.uc': 3, 'Aula5.dia_semana': 4, 'Aula5.duracao': 2, 'Aula5.inicioAula': 10, 'Aula6.uc': 2, 'Aula6.dia_semana': 3, 'Aula6.duracao': 2, 'Aula6.inicioAula': 15, 'Aula7.uc': 2, 'Aula7.dia_semana': 2, 'Aula7.duracao': 2, 'Aula7.inicioAula': 15, 'Aula8.uc': 1, 'Aula8.dia_semana': 3, 'Aula8.duracao': 2, 'Aula8.inicioAula': 13, 'Aula9.uc': 1, 'Aula9.dia_semana': 2, 'Aula9.duracao': 2, 'Aula9.inicioAula': 13, 'Aula10.uc': 5, 'Aula10.dia_semana': 5, 'Aula10.duracao': 2, 'Aula10.inicioAula': 15, 'Aula11.uc': 5, 'Aula11.dia_semana': 4, 'Aula11.duracao': 2, 'Aula11.inicioAula': 15, 'Aula12.uc': 4, 'Aula12.dia_semana': 5, 'Aula12.duracao': 2, 'Aula12.inicioAula': 10, 'Aula13.uc': 4, 'Aula13.dia_semana': 4, 'Aula13.duracao': 2, 'Aula13.inicioAula': 10, 'Aula14.uc': 3, 'Aula14.dia_semana': 5, 'Aula14.duracao': 2, 'Aula14.inicioAula': 12, 'Aula15.uc': 3, 'Aula15.dia_semana': 4, 'Aula15.duracao': 2, 'Aula15.inicioAula': 12, 'Aula16.uc': 2, 'Aula16.dia_semana': 3, 'Aula16.duracao': 2, 'Aula16.inicioAula': 15, 'Aula17.uc': 2, 'Aula17.dia_semana': 2, 'Aula17.duracao': 2, 'Aula17.inicioAula': 13, 'Aula18.uc': 1, 'Aula18.dia_semana': 3, 'Aula18.duracao': 2, 'Aula18.inicioAula': 13, 'Aula19.uc': 1, 'Aula19.dia_semana': 2, 'Aula19.duracao': 2, 'Aula19.inicioAula': 15}\n"
     ]
    }
   ],
   "source": [
    "class_scheduling = NaryCSP(dominio, restricoes)\n",
    "#print(ac_solver(class_scheduling, arc_heuristic=sat_up))\n",
    "print(ac_search_solver(class_scheduling, arc_heuristic=sat_up))"
   ]
  }
 ],
 "metadata": {
  "kernelspec": {
   "display_name": "Python 3.10.2 64-bit",
   "language": "python",
   "name": "python3"
  },
  "language_info": {
   "codemirror_mode": {
    "name": "ipython",
    "version": 3
   },
   "file_extension": ".py",
   "mimetype": "text/x-python",
   "name": "python",
   "nbconvert_exporter": "python",
   "pygments_lexer": "ipython3",
   "version": "3.10.2"
  },
  "orig_nbformat": 4,
  "vscode": {
   "interpreter": {
    "hash": "107d7b120a5b68773a87d4067e673630b35702e55ebab3138143d08b1c4d7cbc"
   }
  }
 },
 "nbformat": 4,
 "nbformat_minor": 2
}
